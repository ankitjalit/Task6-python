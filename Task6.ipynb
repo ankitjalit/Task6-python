{
 "cells": [
  {
   "cell_type": "markdown",
   "metadata": {},
   "source": [
    "# create function to return dictionary of user data"
   ]
  },
  {
   "cell_type": "code",
   "execution_count": 1,
   "metadata": {},
   "outputs": [
    {
     "name": "stdout",
     "output_type": "stream",
     "text": [
      "{'name': 'John Doe', 'age': 28, 'email': 'johndoe@example.com', 'location': 'New York'}\n"
     ]
    }
   ],
   "source": [
    "def get_user_data(name, age, email, location):\n",
    "    \"\"\"\n",
    "    Returns a dictionary containing user data.\n",
    "    \n",
    "    Args:\n",
    "    name (str): The name of the user.\n",
    "    age (int): The age of the user.\n",
    "    email (str): The email address of the user.\n",
    "    location (str): The location of the user.\n",
    "    \n",
    "    Returns:\n",
    "    dict: A dictionary with the user's data.\n",
    "    \"\"\"\n",
    "    user_data = {\n",
    "        'name': name,\n",
    "        'age': age,\n",
    "        'email': email,\n",
    "        'location': location\n",
    "    }\n",
    "    \n",
    "    return user_data\n",
    "\n",
    "# Example usage\n",
    "user = get_user_data(\"John Doe\", 28, \"johndoe@example.com\", \"New York\")\n",
    "print(user)\n"
   ]
  },
  {
   "cell_type": "code",
   "execution_count": 2,
   "metadata": {},
   "outputs": [
    {
     "name": "stdout",
     "output_type": "stream",
     "text": [
      "{'name': 'John Doe', 'age': 28, 'email': 'johndoe@example.com', 'location': 'New York'}\n"
     ]
    }
   ],
   "source": [
    "print(user)"
   ]
  },
  {
   "cell_type": "code",
   "execution_count": null,
   "metadata": {},
   "outputs": [],
   "source": []
  }
 ],
 "metadata": {
  "kernelspec": {
   "display_name": "Python 3",
   "language": "python",
   "name": "python3"
  },
  "language_info": {
   "codemirror_mode": {
    "name": "ipython",
    "version": 3
   },
   "file_extension": ".py",
   "mimetype": "text/x-python",
   "name": "python",
   "nbconvert_exporter": "python",
   "pygments_lexer": "ipython3",
   "version": "3.12.5"
  }
 },
 "nbformat": 4,
 "nbformat_minor": 2
}
